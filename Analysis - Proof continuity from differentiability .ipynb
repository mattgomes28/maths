{
 "cells": [
  {
   "cell_type": "markdown",
   "metadata": {},
   "source": [
    "Let  $f:\\mathbb{R}->\\mathbb{R}$. Given that $f$ is differentiable at $x_0 \\in (a,b)$, prove that $f$ is also continuous at $x_0$.\n",
    "\n",
    "<b>Proof:</b><br/>\n",
    "We know that $f$ is differentiable at $x_0$, therefore $$\\lim_{h\\to0}\\frac{f(x_0+g)-f(x_0)}{h}$$ exists. Call this limit $f^\\prime(x_0)$\n",
    "\n",
    "Now, $$\\lim_{h\\to0}\\frac{f(x_0+h)-f(x_0)}{h}=\\frac{\\lim_{h\\to0}(f(x_0+h)-f(x_0))}{\\lim_{h\\to0}h}$$ using rules of limits. We can now equate the above equation to $f^\\prime(x_0)$, then we can multiply out the denominator of the above equation to get the following:\n",
    "\n",
    "$$\\lim_{h\\to0}(h)f^\\prime(x_0) = lim_{h\\to0}(hf^\\prime(x_0))=\\lim_{h\\to0}(f(x_0+h)-f(x_0))$$"
   ]
  },
  {
   "cell_type": "code",
   "execution_count": null,
   "metadata": {
    "collapsed": true
   },
   "outputs": [],
   "source": []
  },
  {
   "cell_type": "code",
   "execution_count": null,
   "metadata": {
    "collapsed": true
   },
   "outputs": [],
   "source": []
  }
 ],
 "metadata": {
  "kernelspec": {
   "display_name": "Python 3",
   "language": "python",
   "name": "python3"
  },
  "language_info": {
   "codemirror_mode": {
    "name": "ipython",
    "version": 3
   },
   "file_extension": ".py",
   "mimetype": "text/x-python",
   "name": "python",
   "nbconvert_exporter": "python",
   "pygments_lexer": "ipython3",
   "version": "3.5.1"
  }
 },
 "nbformat": 4,
 "nbformat_minor": 0
}
